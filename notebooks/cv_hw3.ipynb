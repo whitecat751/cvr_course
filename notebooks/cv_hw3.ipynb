{
 "cells": [
  {
   "cell_type": "code",
   "execution_count": 3,
   "metadata": {},
   "outputs": [
    {
     "name": "stdout",
     "output_type": "stream",
     "text": [
      "video\n"
     ]
    }
   ],
   "source": [
    "import cv2\n",
    "import time\n",
    "import os\n",
    "import math\n",
    "import sys\n",
    "from matplotlib import pyplot as plt\n",
    "\n",
    "sys.path.append(\"../modules/\")\n",
    "\n",
    "import input_output\n",
    "import processor\n",
    "\n",
    "det = processor.Processors ()\n",
    "\n",
    "det.add_processor (\"contour_extraction\")\n",
    "det.add_processor (\"perspective_warping\")\n",
    "\n",
    "low_th  = (200, 200, 200)\n",
    "high_th = (255, 255, 255)\n",
    "det.add_filter (processor.inrange (low_th, high_th), \"contour_extraction\", \"inrange rgb\")\n",
    "det.add_filter (processor.leave_max_area_cc (),      \"contour_extraction\", \"max_cc_extraction\")\n",
    "det.add_filter (processor.contour_approximation (),  \"contour_extraction\", \"contour_approximation\")\n",
    "\n",
    "det.add_filter (processor.warp_perspective (), \"perspective_warping\", \"warp perspective\")\n",
    "det.add_filter (processor.gamma_correction (1), \"perspective_warping\", \"gamma correction\")\n",
    "#det.add_filter (processor.colorspace_to_colorspace (\"RGB\", \"HSV\"),\n",
    "#                \"basket\", \"colorspaces change 1\")\n",
    "\n",
    "source  = input_output.Source (\"../data/birdview.mov\")\n",
    "#source = input_output.Source (\"../data/images/rgb_basket.jpg\")\n",
    "#source  = input_output.Source (\"1\")\n",
    "\n",
    "out = input_output.Writer (\"warped.mp4\", 1400, 392)\n",
    "\n",
    "while (True):\n",
    "    _, frame = source.get_frame ()\n",
    "\n",
    "    contour, success = det.process (frame, \"contour_extraction\")\n",
    "    stages_contour = det.get_stages_picts (\"contour_extraction\")\n",
    "    \n",
    "    det.processors [\"perspective_warping\"] [\"warp perspective\"].set_parameters_as_contour (contour)\n",
    "    warped, success = det.process (frame, \"perspective_warping\")\n",
    "    stages_warp = det.get_stages_picts (\"perspective_warping\")\n",
    "    \n",
    "    output_frame = input_output.form_grid (stages_contour + stages_warp, window_x_sz=1400)\n",
    "    cv2.imshow (\"output\", output_frame)\n",
    "    \n",
    "    #print (output_frame.shape)\n",
    "    out.write (output_frame)\n",
    "    \n",
    "    time.sleep (0.02)\n",
    "    keyb = cv2.waitKey (1) & 0xFF\n",
    "\n",
    "    if (keyb == ord('q')):\n",
    "        break\n",
    "\n",
    "source.release()\n",
    "cv2.waitKey (1)\n",
    "cv2.destroyAllWindows()"
   ]
  },
  {
   "cell_type": "code",
   "execution_count": null,
   "metadata": {},
   "outputs": [],
   "source": []
  },
  {
   "cell_type": "code",
   "execution_count": null,
   "metadata": {},
   "outputs": [],
   "source": []
  }
 ],
 "metadata": {
  "kernelspec": {
   "display_name": "Python 3",
   "language": "python",
   "name": "python3"
  },
  "language_info": {
   "codemirror_mode": {
    "name": "ipython",
    "version": 3
   },
   "file_extension": ".py",
   "mimetype": "text/x-python",
   "name": "python",
   "nbconvert_exporter": "python",
   "pygments_lexer": "ipython3",
   "version": "3.7.3"
  }
 },
 "nbformat": 4,
 "nbformat_minor": 2
}
